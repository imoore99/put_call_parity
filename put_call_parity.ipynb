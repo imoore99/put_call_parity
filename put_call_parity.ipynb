{
 "cells": [
  {
   "cell_type": "markdown",
   "id": "0806a422",
   "metadata": {},
   "source": [
    "## Put Call Parity: Synthetic Positions for Building Protected Investment Strategies"
   ]
  },
  {
   "cell_type": "markdown",
   "id": "56c2e0d3",
   "metadata": {},
   "source": [
    "#### Import AAPL data and Options Chains"
   ]
  },
  {
   "cell_type": "code",
   "execution_count": 1,
   "id": "aa26ba0e",
   "metadata": {
    "vscode": {
     "languageId": "r"
    }
   },
   "outputs": [
    {
     "name": "stderr",
     "output_type": "stream",
     "text": [
      "Loading required package: xts\n",
      "\n",
      "Loading required package: zoo\n",
      "\n",
      "\n",
      "Attaching package: 'zoo'\n",
      "\n",
      "\n",
      "The following objects are masked from 'package:base':\n",
      "\n",
      "    as.Date, as.Date.numeric\n",
      "\n",
      "\n",
      "Loading required package: TTR\n",
      "\n",
      "Registered S3 method overwritten by 'quantmod':\n",
      "  method            from\n",
      "  as.zoo.data.frame zoo \n",
      "\n",
      "\n",
      "######################### Warning from 'xts' package ##########################\n",
      "#                                                                             #\n",
      "# The dplyr lag() function breaks how base R's lag() function is supposed to  #\n",
      "# work, which breaks lag(my_xts). Calls to lag(my_xts) that you type or       #\n",
      "# source() into this session won't work correctly.                            #\n",
      "#                                                                             #\n",
      "# Use stats::lag() to make sure you're not using dplyr::lag(), or you can add #\n",
      "# conflictRules('dplyr', exclude = 'lag') to your .Rprofile to stop           #\n",
      "# dplyr from breaking base R's lag() function.                                #\n",
      "#                                                                             #\n",
      "# Code in packages is not affected. It's protected by R's namespace mechanism #\n",
      "# Set `options(xts.warn_dplyr_breaks_lag = FALSE)` to suppress this warning.  #\n",
      "#                                                                             #\n",
      "###############################################################################\n",
      "\n",
      "\n",
      "Attaching package: 'dplyr'\n",
      "\n",
      "\n",
      "The following objects are masked from 'package:xts':\n",
      "\n",
      "    first, last\n",
      "\n",
      "\n",
      "The following objects are masked from 'package:stats':\n",
      "\n",
      "    filter, lag\n",
      "\n",
      "\n",
      "The following objects are masked from 'package:base':\n",
      "\n",
      "    intersect, setdiff, setequal, union\n",
      "\n",
      "\n",
      "Warning message:\n",
      "\"package 'gridExtra' was built under R version 4.5.1\"\n",
      "\n",
      "Attaching package: 'gridExtra'\n",
      "\n",
      "\n",
      "The following object is masked from 'package:dplyr':\n",
      "\n",
      "    combine\n",
      "\n",
      "\n",
      "Warning message:\n",
      "\"package 'ggpattern' was built under R version 4.5.1\"\n"
     ]
    }
   ],
   "source": [
    "library(quantmod)\n",
    "library(ggplot2)\n",
    "library(dplyr)\n",
    "library(gridExtra)\n",
    "library(ggpattern)"
   ]
  },
  {
   "cell_type": "code",
   "execution_count": 36,
   "id": "432bc299",
   "metadata": {
    "vscode": {
     "languageId": "r"
    }
   },
   "outputs": [
    {
     "data": {
      "text/html": [
       "'AAPL'"
      ],
      "text/latex": [
       "'AAPL'"
      ],
      "text/markdown": [
       "'AAPL'"
      ],
      "text/plain": [
       "[1] \"AAPL\""
      ]
     },
     "metadata": {},
     "output_type": "display_data"
    }
   ],
   "source": [
    "# Focus on Apple ('AAPL')\n",
    "stock <- \"AAPL\"\n",
    "\n",
    "# Current Apple options chain for realistic pricing\n",
    "current_options <- getOptionChain(stock)\n",
    "\n",
    "# Historical Apple stock prices for \"what if\" scenarios  \n",
    "getSymbols(stock, from = Sys.Date() - 365, to = Sys.Date())\n",
    "historical_prices <- AAPL\n",
    "\n",
    "# Extract monthly endpoints with their actual dates\n",
    "monthly_endpoints <- endpoints(AAPL, on = \"months\")\n",
    "monthly_data <- AAPL[monthly_endpoints]"
   ]
  },
  {
   "cell_type": "code",
   "execution_count": 3,
   "id": "d6c2f24d",
   "metadata": {
    "vscode": {
     "languageId": "r"
    }
   },
   "outputs": [
    {
     "name": "stdout",
     "output_type": "stream",
     "text": [
      "[1] \"Current AAPL price: 231.59\"\n"
     ]
    }
   ],
   "source": [
    "# Get current Apple stock price\n",
    "current_price <- as.numeric(last(Cl(AAPL)))\n",
    "print(paste(\"Current AAPL price:\", round(current_price, 2)))"
   ]
  },
  {
   "cell_type": "code",
   "execution_count": 4,
   "id": "ef1f5a03",
   "metadata": {
    "vscode": {
     "languageId": "r"
    }
   },
   "outputs": [
    {
     "name": "stdout",
     "output_type": "stream",
     "text": [
      "[1] \"230 Strike Call Price: 3.35\"\n",
      "[1] \"230 Strike Put Price: 2.26\"\n"
     ]
    }
   ],
   "source": [
    "# Extract specific strike data\n",
    "# Assume a strike price of $230\n",
    "strike_230_call <- current_options$calls[current_options$calls$Strike == 230, \"Last\"]\n",
    "strike_230_put <- current_options$puts[current_options$puts$Strike == 230, \"Last\"]\n",
    "\n",
    "print(paste(\"230 Strike Call Price:\", strike_230_call))\n",
    "print(paste(\"230 Strike Put Price:\", strike_230_put))"
   ]
  },
  {
   "cell_type": "markdown",
   "id": "48dde4be",
   "metadata": {},
   "source": [
    "## Data Setup"
   ]
  },
  {
   "cell_type": "code",
   "execution_count": 5,
   "id": "2d8f0388",
   "metadata": {
    "vscode": {
     "languageId": "r"
    }
   },
   "outputs": [],
   "source": [
    "# Market data from Apple options chain\n",
    "current_stock_price <- current_price\n",
    "strike_price <- 230 #Hypothetical for this exercise\n",
    "call_price <- strike_230_call\n",
    "put_price <- strike_230_put\n",
    "shares <- 100  # Standard option contract size\n",
    "call_premium <- strike_230_call * shares\n",
    "put_premium <- put_price * shares"
   ]
  },
  {
   "cell_type": "code",
   "execution_count": 6,
   "id": "d221fbd1",
   "metadata": {
    "vscode": {
     "languageId": "r"
    }
   },
   "outputs": [],
   "source": [
    "# Create range of stock prices at expiration for analysis\n",
    "stock_prices_at_exp <- seq(200, 260, by = 2)"
   ]
  },
  {
   "cell_type": "code",
   "execution_count": 7,
   "id": "051c0aa1",
   "metadata": {
    "vscode": {
     "languageId": "r"
    }
   },
   "outputs": [],
   "source": [
    "# Calculate payoffs for each strategy\n",
    "payoff_data <- data.frame(\n",
    "  stock_price = stock_prices_at_exp\n",
    "  ) %>%\n",
    "    mutate(\n",
    "      # Pure stock position (no protection)\n",
    "      pure_stock_profit = (stock_price - current_stock_price) * shares,\n",
    "      \n",
    "      # Portfolio A: Protected Stock (Stock + Put)\n",
    "      stock_value = stock_price * shares,\n",
    "      put_payoff = pmax(strike_price - stock_price, 0) * shares,  # Put intrinsic value\n",
    "      portfolio_a_total = stock_value + put_payoff,\n",
    "      portfolio_a_profit = portfolio_a_total - (current_stock_price * shares + put_price * shares),\n",
    "      \n",
    "      # Portfolio B: Synthetic Stock (Call + T-Bills)\n",
    "      call_payoff = pmax(stock_price - strike_price, 0) * shares,  # Call intrinsic value\n",
    "      tbill_value = strike_price * shares,  # Simplified: ignore small interest for clarity\n",
    "      portfolio_b_total = call_payoff + tbill_value,\n",
    "      portfolio_b_profit = portfolio_b_total - (call_price * shares + strike_price * shares)\n",
    "    )"
   ]
  },
  {
   "cell_type": "code",
   "execution_count": 8,
   "id": "b378c4d2",
   "metadata": {
    "vscode": {
     "languageId": "r"
    }
   },
   "outputs": [],
   "source": [
    "data_head <- head(payoff_data, 3)"
   ]
  },
  {
   "cell_type": "code",
   "execution_count": 9,
   "id": "dab002af",
   "metadata": {
    "vscode": {
     "languageId": "r"
    }
   },
   "outputs": [],
   "source": [
    "data_tail <- tail(payoff_data, 3)"
   ]
  },
  {
   "cell_type": "markdown",
   "id": "9e2ccfca",
   "metadata": {},
   "source": [
    "## Payoff Diagram"
   ]
  },
  {
   "cell_type": "code",
   "execution_count": 10,
   "id": "1b3a4bf8",
   "metadata": {
    "vscode": {
     "languageId": "r"
    }
   },
   "outputs": [],
   "source": [
    "# Before creating the plot\n",
    "options(repr.plot.width = 16, repr.plot.height = 8)\n",
    "\n",
    "theme <-\n",
    "theme(\n",
    "    plot.title = element_text(size = 18, face = \"bold\", hjust = 0.5),\n",
    "    plot.subtitle = element_text(size = 17, face= \"bold\", color = \"gray40\", hjust=0.5),\n",
    "    legend.position = \"bottom\",\n",
    "    legend.title = element_text(size=15, face = \"bold\"),\n",
    "    legend.text = element_text(size = 15),\n",
    "    panel.grid.minor = element_blank(),\n",
    "    plot.caption = element_text(size = 14, color = \"gray50\", hjust = 0),\n",
    "    axis.title.x = element_text(size = 15, face=\"bold\"),      # X-axis label only\n",
    "    axis.title.y = element_text(size = 15, face=\"bold\"),      # Y-axis label only  \n",
    "    axis.text.x = element_text(size = 14),       # X-axis tick marks only\n",
    "    axis.text.y = element_text(size = 14)  \n",
    "  ) "
   ]
  },
  {
   "cell_type": "code",
   "execution_count": 11,
   "id": "1598a071",
   "metadata": {
    "vscode": {
     "languageId": "r"
    }
   },
   "outputs": [],
   "source": [
    "# Create the main comparison chart\n",
    "main_plot <- ggplot(payoff_data, aes(x = stock_price)) +\n",
    "  geom_line(aes(y = pure_stock_profit, color = \"Pure Stock\"), linewidth = 1.2, alpha = 0.7) +\n",
    "  geom_line(aes(y = portfolio_a_profit, color = \"Portfolio A (Stock + Put)\"), linewidth = 1.5) +\n",
    "  geom_line(aes(y = portfolio_b_profit, color = \"Portfolio B (Call + T-Bills)\"), \n",
    "            linewidth = 1.5, linetype = \"dashed\") +\n",
    "  geom_hline(yintercept = 0, color = \"gray50\", linetype = \"dotted\", alpha = 0.8) +\n",
    "  geom_vline(xintercept = current_stock_price, color = \"gray30\", linetype = \"dotted\", alpha = 0.6) +\n",
    "  geom_vline(xintercept = strike_price, color = \"red\", linetype = \"dotted\", alpha = 0.6) +\n",
    "  annotate(\"Segment\", x = 227.6, y=-1000, yend = 300, color=\"red\", linewidth=1.3) + \n",
    "  annotate(\"Segment\", x = 234, y=-650, yend = 650, color=\"red\", linewidth=1.3) + \n",
    "  # Add text label\n",
    "  annotate(\"text\", x = 227.2, y = 450, label = paste(\"A\"), size = 7, hjust = 0, color = \"red\") +\n",
    "  # Add text label\n",
    "  annotate(\"text\", x = 233.6, y = 820, label = paste(\"B\"), size = 7, hjust = 0, color = \"red\") +\n",
    "  # Styling\n",
    "  scale_color_manual(values = c(\"Pure Stock\" = \"#2E8B57\", \n",
    "                               \"Portfolio A (Stock + Put)\" = \"#1f77b4\", \n",
    "                               \"Portfolio B (Call + T-Bills)\" = \"#ff7f0e\")) +\n",
    "  labs(\n",
    "    title = \"Put-Call Parity for Apple Stock: Payoff Comparison at Expiration\",\n",
    "    subtitle = paste(\"Strike Price: $\", strike_price, \" | Current Price: $\", round(current_stock_price, 2)),\n",
    "    x = \"Apple Stock Price at Expiration ($)\",\n",
    "    y = \"Profit/Loss ($)\",\n",
    "    color = \"Strategy\",\n",
    "    caption = \"Note: Portfolio A and Portfolio B lines overlap, demonstrating put-call parity\"\n",
    "  ) +\n",
    "  theme_minimal() +\n",
    "  theme +\n",
    "  scale_x_continuous(breaks = seq(200, 260, by = 10), labels = scales::dollar_format()) +\n",
    "  scale_y_continuous(labels = scales::dollar_format()) +\n",
    "  coord_cartesian(xlim = c(200, 260))"
   ]
  },
  {
   "cell_type": "code",
   "execution_count": 12,
   "id": "7a1c5a80",
   "metadata": {
    "vscode": {
     "languageId": "r"
    }
   },
   "outputs": [
    {
     "name": "stderr",
     "output_type": "stream",
     "text": [
      "\u001b[1m\u001b[22mSaving 7 x 7 in image\n"
     ]
    },
    {
     "data": {
      "image/png": "[encoded data removed]",
      "text/plain": [
       "plot without title"
      ]
     },
     "metadata": {
      "image/png": {
       "height": 480,
       "width": 960
      }
     },
     "output_type": "display_data"
    }
   ],
   "source": [
    "main_plot\n",
    "ggsave(\"put_call_parity.png\", plot=main_plot)"
   ]
  },
  {
   "cell_type": "code",
   "execution_count": 13,
   "id": "64df7139",
   "metadata": {
    "vscode": {
     "languageId": "r"
    }
   },
   "outputs": [],
   "source": [
    "min_stock = min(payoff_data['stock_price'])\n",
    "min_stock_profit = min(payoff_data['pure_stock_profit'])\n",
    "\n",
    "# Define the vertices of the triangle\n",
    "triangle_data <- data.frame(\n",
    "  x = c(min_stock, min_stock, current_stock_price), # x coordinates, closing the polygon by repeating the first point\n",
    "  y = c(min_stock_profit, 0, 0),  # y coordinates\n",
    "  group = 1             # Group variable for a single triangle\n",
    ")"
   ]
  },
  {
   "cell_type": "code",
   "execution_count": 14,
   "id": "d10daef8",
   "metadata": {
    "vscode": {
     "languageId": "r"
    }
   },
   "outputs": [
    {
     "name": "stderr",
     "output_type": "stream",
     "text": [
      "Warning message:\n",
      "\"\u001b[1m\u001b[22mUsing `size` aesthetic for lines was deprecated in ggplot2 3.4.0.\n",
      "\u001b[36mℹ\u001b[39m Please use `linewidth` instead.\"\n"
     ]
    }
   ],
   "source": [
    "# Portfolio A breakdown\n",
    "portfolio_a_breakdown <- ggplot(payoff_data, aes(x = stock_price)) +\n",
    "  geom_polygon_pattern(data = triangle_data, aes(x = x, y = y, group = group), \n",
    "               fill = \"skyblue\", \n",
    "               color = \"black\",\n",
    "               pattern = \"stripe\",           # Pattern type\n",
    "               pattern_fill = \"skyblue\",       # Pattern color\n",
    "               pattern_color = \"red\",      # Pattern line color\n",
    "               pattern_spacing = 0.025,\n",
    "               pattern_density = 0.025,\n",
    "               pattern_angle = 135,       # Vertical stripes\n",
    "               alpha = 0.5) +  # Add triangle first\n",
    "  geom_area(aes(y = (stock_price - current_stock_price) * shares), \n",
    "            fill = \"#1f77b4\", alpha = 0.3, color = \"#1f77b4\") +\n",
    "  geom_area(aes(y = put_payoff), fill = \"#5fc86c\", alpha = 0.5, color = \"#5fc86c\") +\n",
    "  geom_hline(yintercept = 0, color = \"gray50\", linetype = \"dotted\", linewidth = 1.2, alpha = 0.8) +\n",
    "  geom_vline(xintercept = strike_price, color = \"red\", linetype = \"dotted\", linewidth = 1.2, alpha = 0.8) +\n",
    "  labs(\n",
    "    title = \"Portfolio A: Stock + Put Protection\",\n",
    "    subtitle = \"Blue = Stock Gain/Loss | Green = Put Protection\",\n",
    "    x = \"Stock Price ($)\",\n",
    "    y = \"Value ($)\"\n",
    "  ) +\n",
    "  theme_minimal() +\n",
    "  theme +\n",
    "  scale_x_continuous(labels = scales::dollar_format()) +\n",
    "  scale_y_continuous(labels = scales::dollar_format()) +\n",
    "  # Add a circle\n",
    "  annotate(\"point\", x = current_price, y = 0, size = 8, shape = 21, \n",
    "            color = \"red\", stroke = 2) +\n",
    "# Add text label\n",
    "  annotate(\"text\", x = current_price, y = -800, label = paste(\"Break-even: $\", round(current_stock_price, 2)), \n",
    "           size = 7, hjust = 0, color = \"red\") +\n",
    "# Basic arrow\n",
    "  annotate(\"segment\", x = current_price+.20, y = -660, xend = current_price, yend = -180,\n",
    "           arrow = arrow(length = unit(0.3, \"cm\")), \n",
    "           color = \"red\", size = 1)\n"
   ]
  },
  {
   "cell_type": "code",
   "execution_count": 15,
   "id": "38c9075c",
   "metadata": {
    "vscode": {
     "languageId": "r"
    }
   },
   "outputs": [
    {
     "name": "stderr",
     "output_type": "stream",
     "text": [
      "\u001b[1m\u001b[22mSaving 7 x 7 in image\n"
     ]
    },
    {
     "data": {
      "image/png": "[encoded data removed]",
      "text/plain": [
       "plot without title"
      ]
     },
     "metadata": {
      "image/png": {
       "height": 480,
       "width": 960
      }
     },
     "output_type": "display_data"
    }
   ],
   "source": [
    "portfolio_a_breakdown\n",
    "ggsave(\"portfolio_a_breakdown.png\", plot = portfolio_a_breakdown)"
   ]
  },
  {
   "cell_type": "code",
   "execution_count": null,
   "id": "8156220d",
   "metadata": {
    "vscode": {
     "languageId": "r"
    }
   },
   "outputs": [],
   "source": [
    "# Portfolio B breakdown  \n",
    "portfolio_b_breakdown <- ggplot(payoff_data, aes(x = stock_price)) +\n",
    "  geom_area(aes(y = call_payoff), fill = \"#ff7f0e\", alpha = 0.5, color = \"#ff7f0e\") +\n",
    "  geom_area(aes(y = (stock_price - current_stock_price) * shares), \n",
    "            fill = \"#75A9CE\", color = \"#75A9CE\") +\n",
    "  geom_polygon_pattern(data = triangle_data, aes(x = x, y = y, group = group), \n",
    "                fill = \"skyblue\", \n",
    "                color = \"black\",\n",
    "                pattern = \"stripe\",           # Pattern type\n",
    "                pattern_fill = \"skyblue\",       # Pattern color\n",
    "                pattern_color = \"red\",      # Pattern line color\n",
    "                pattern_spacing = 0.025,\n",
    "                pattern_density = 0.025,\n",
    "                pattern_angle = 135,       # Vertical stripes\n",
    "                alpha = 0.5) +  # Add triangle first          \n",
    "  geom_hline(yintercept = 0, color = \"gray50\", linetype = \"dotted\") +\n",
    "  geom_vline(xintercept = strike_price, color = \"red\", linetype = \"dotted\", linewidth = 1.2, alpha = 0.8) +\n",
    "  labs(\n",
    "    title = \"Portfolio B: Call + Treasury Bills\",\n",
    "    subtitle = \"Orange = Call Upside | Blue = Stock Gain/Loss\",\n",
    "    x = \"Stock Price ($)\",\n",
    "    y = \"Value ($)\"\n",
    "  ) +\n",
    "  theme_minimal() +\n",
    "  theme +\n",
    "  scale_x_continuous(labels = scales::dollar_format()) +\n",
    "  scale_y_continuous(breaks = c(-3000, -2000, -1000, 0 , 1000, 2000, 3000), \n",
    "                      limits = c(-3200, 3200),\n",
    "                      labels = scales::dollar_format())\n"
   ]
  },
  {
   "cell_type": "code",
   "execution_count": 17,
   "id": "a646a482",
   "metadata": {
    "vscode": {
     "languageId": "r"
    }
   },
   "outputs": [
    {
     "name": "stderr",
     "output_type": "stream",
     "text": [
      "\u001b[1m\u001b[22mSaving 7 x 7 in image\n"
     ]
    },
    {
     "data": {
      "image/png": "[encoded data removed]",
      "text/plain": [
       "plot without title"
      ]
     },
     "metadata": {
      "image/png": {
       "height": 480,
       "width": 960
      }
     },
     "output_type": "display_data"
    }
   ],
   "source": [
    "portfolio_b_breakdown\n",
    "ggsave(\"portfolio_b_breakdown.png\", plot = portfolio_b_breakdown)"
   ]
  },
  {
   "cell_type": "code",
   "execution_count": null,
   "id": "2ae215eb",
   "metadata": {
    "vscode": {
     "languageId": "r"
    }
   },
   "outputs": [
    {
     "name": "stdout",
     "output_type": "stream",
     "text": [
      "\n",
      "=== KEY INSIGHTS FROM PAYOFF DIAGRAMS ===\n",
      "Protection Cost (Put Premium): $226.00 \n",
      "Maximum Loss - Pure Stock: -$3,159.00 \n",
      "Maximum Loss - Protected Position: -$385.00 \n",
      "Break-even Price (Stock + Put): $233.85 \n",
      "Current Stock Price: $231.59 \n",
      "Strike Price: $230 \n",
      "\n",
      "=== PORTFOLIO COST COMPARISON ===\n",
      "Portfolio A Total Cost: $23,385.00 \n",
      "Portfolio B Total Cost: $23,335 \n",
      "Cost Difference: $50.00 \n",
      "\n",
      "=== PUT-CALL PARITY VERIFICATION ===\n",
      "Stock Price | Portfolio A Value | Portfolio B Value | Difference\n",
      "-----------|------------------|------------------|----------\n",
      "$220        | $23000           | $23000           | $0.00\n",
      "$230        | $23000           | $23000           | $0.00\n",
      "$240        | $24000           | $24000           | $0.00\n",
      "$250        | $25000           | $25000           | $0.00\n"
     ]
    }
   ],
   "source": [
    "# Calculate key statistics for interpretation\n",
    "protection_cost <- (put_price * shares)\n",
    "max_loss_pure_stock <- min(payoff_data$pure_stock_profit)\n",
    "max_loss_protected <- min(payoff_data$portfolio_a_profit)\n",
    "break_even_price <- current_stock_price + put_price\n",
    "\n",
    "# Print key insights\n",
    "cat(\"\\n=== KEY INSIGHTS FROM PAYOFF DIAGRAMS ===\\n\")\n",
    "cat(\"Protection Cost (Put Premium):\", scales::dollar(protection_cost), \"\\n\")\n",
    "cat(\"Maximum Loss - Pure Stock:\", scales::dollar(max_loss_pure_stock), \"\\n\") \n",
    "cat(\"Maximum Loss - Protected Position:\", scales::dollar(max_loss_protected), \"\\n\")\n",
    "cat(\"Break-even Price (Stock + Put):\", scales::dollar(break_even_price), \"\\n\")\n",
    "cat(\"Current Stock Price:\", scales::dollar(current_stock_price), \"\\n\")\n",
    "cat(\"Strike Price:\", scales::dollar(strike_price), \"\\n\")\n",
    "\n",
    "# Portfolio cost comparison\n",
    "portfolio_a_cost <- current_stock_price * shares + put_price * shares\n",
    "portfolio_b_cost <- call_price * shares + strike_price * shares\n",
    "\n",
    "cat(\"\\n=== PORTFOLIO COST COMPARISON ===\\n\")\n",
    "cat(\"Portfolio A Total Cost:\", scales::dollar(portfolio_a_cost), \"\\n\")\n",
    "cat(\"Portfolio B Total Cost:\", scales::dollar(portfolio_b_cost), \"\\n\")\n",
    "cat(\"Cost Difference:\", scales::dollar(abs(portfolio_a_cost - portfolio_b_cost)), \"\\n\")\n",
    "\n",
    "# Verify put-call parity at specific points\n",
    "verification_prices <- c(220, 230, 240, 250)\n",
    "cat(\"\\n=== PUT-CALL PARITY VERIFICATION ===\\n\")\n",
    "cat(\"Stock Price | Portfolio A Value | Portfolio B Value | Difference\\n\")\n",
    "cat(\"-----------|------------------|------------------|----------\\n\")\n",
    "\n",
    "for(price in verification_prices) {\n",
    "  a_value <- price * shares + max(strike_price - price, 0) * shares\n",
    "  b_value <- max(price - strike_price, 0) * shares + strike_price * shares\n",
    "  difference <- abs(a_value - b_value)\n",
    "  cat(sprintf(\"$%-10.0f | $%-15.0f | $%-15.0f | $%.2f\\n\", \n",
    "              price, a_value, b_value, difference))\n",
    "}"
   ]
  },
  {
   "cell_type": "markdown",
   "id": "b0cf1f5b",
   "metadata": {},
   "source": [
    "## Historical \"What-If\" Analysis"
   ]
  },
  {
   "cell_type": "markdown",
   "id": "2d8f07f0",
   "metadata": {},
   "source": [
    "#### Calculate and Structure Data Table"
   ]
  },
  {
   "cell_type": "code",
   "execution_count": 23,
   "id": "7511c2b1",
   "metadata": {
    "vscode": {
     "languageId": "r"
    }
   },
   "outputs": [],
   "source": [
    "# Calculate monthly price points (or whatever frequency you prefer)\n",
    "monthly_prices <- historical_prices[endpoints(historical_prices, on = \"months\")]\n",
    "monthly_prices <- as.numeric(Cl(monthly_prices))"
   ]
  },
  {
   "cell_type": "code",
   "execution_count": 35,
   "id": "28a0306d",
   "metadata": {
    "vscode": {
     "languageId": "r"
    }
   },
   "outputs": [
    {
     "data": {
      "text/html": [
       "<style>\n",
       ".list-inline {list-style: none; margin:0; padding: 0}\n",
       ".list-inline>li {display: inline-block}\n",
       ".list-inline>li:not(:last-child)::after {content: \"\\00b7\"; padding: 0 .5ex}\n",
       "</style>\n",
       "<ol class=list-inline><li>1</li><li>2</li><li>3</li><li>4</li><li>5</li><li>6</li><li>7</li><li>8</li><li>9</li><li>10</li><li>11</li><li>12</li><li>13</li></ol>\n"
      ],
      "text/latex": [
       "\\begin{enumerate*}\n",
       "\\item 1\n",
       "\\item 2\n",
       "\\item 3\n",
       "\\item 4\n",
       "\\item 5\n",
       "\\item 6\n",
       "\\item 7\n",
       "\\item 8\n",
       "\\item 9\n",
       "\\item 10\n",
       "\\item 11\n",
       "\\item 12\n",
       "\\item 13\n",
       "\\end{enumerate*}\n"
      ],
      "text/markdown": [
       "1. 1\n",
       "2. 2\n",
       "3. 3\n",
       "4. 4\n",
       "5. 5\n",
       "6. 6\n",
       "7. 7\n",
       "8. 8\n",
       "9. 9\n",
       "10. 10\n",
       "11. 11\n",
       "12. 12\n",
       "13. 13\n",
       "\n",
       "\n"
      ],
      "text/plain": [
       " [1]  1  2  3  4  5  6  7  8  9 10 11 12 13"
      ]
     },
     "metadata": {},
     "output_type": "display_data"
    }
   ],
   "source": [
    "index(monthly_prices)"
   ]
  },
  {
   "cell_type": "code",
   "execution_count": 37,
   "id": "c694e2c8",
   "metadata": {
    "vscode": {
     "languageId": "r"
    }
   },
   "outputs": [],
   "source": [
    "# Calculate what each strategy would have returned\n",
    "results <- data.frame(\n",
    "  date = as.Date(index(monthly_data)),  # This should now give actual dates\n",
    "  stock_price = as.numeric(Cl(monthly_data))\n",
    ") %>%\n",
    "  mutate(\n",
    "    # Pure stock returns\n",
    "    pure_stock_return = (stock_price - current_stock_price) * shares,\n",
    "    \n",
    "    # Portfolio A: Stock + Put (protection kicks in below strike)\n",
    "    portfolio_a_value = stock_price * shares + pmax(strike_price - stock_price, 0) * shares,\n",
    "    portfolio_a_return = portfolio_a_value - (current_stock_price * shares + put_premium),\n",
    "    \n",
    "    # Portfolio B: Call + T-bills  \n",
    "    portfolio_b_value = pmax(stock_price - strike_price, 0) * shares + strike_price * shares,\n",
    "    portfolio_b_return = portfolio_b_value - (call_premium + strike_price * shares)\n",
    "  )"
   ]
  },
  {
   "cell_type": "code",
   "execution_count": 50,
   "id": "4638e2ba",
   "metadata": {
    "vscode": {
     "languageId": "r"
    }
   },
   "outputs": [],
   "source": [
    "# Visualize the comparison\n",
    "what_if_plot <- ggplot(results, aes(x = date)) +\n",
    "  geom_line(aes(y = pure_stock_return, color = \"Pure Stock\"), linewidth = 1.1) +\n",
    "  geom_line(aes(y = portfolio_a_return, color = \"Portfolio A\"), linewidth = 1.1) +\n",
    "  geom_line(aes(y = portfolio_b_return, color = \"Portfolio B\"), linewidth = 1.1) +\n",
    "  labs(title = \"Historical Performance: Protected vs Unprotected Strategies\",\n",
    "       y = \"Cumulative Return ($)\",\n",
    "       x = \"Date\") +\n",
    "  theme_minimal() +\n",
    "  theme +\n",
    "  scale_y_continuous(breaks = c(-3000, -2000, -1000, 0 , 1000, 2000, 3000), \n",
    "                      limits = c(-3200, 3200),\n",
    "                      labels = scales::dollar_format())"
   ]
  },
  {
   "cell_type": "code",
   "execution_count": 51,
   "id": "c0b59e86",
   "metadata": {
    "vscode": {
     "languageId": "r"
    }
   },
   "outputs": [
    {
     "name": "stderr",
     "output_type": "stream",
     "text": [
      "\u001b[1m\u001b[22mSaving 7 x 7 in image\n"
     ]
    },
    {
     "data": {
      "image/png": "[encoded data removed]",
      "text/plain": [
       "plot without title"
      ]
     },
     "metadata": {
      "image/png": {
       "height": 480,
       "width": 960
      }
     },
     "output_type": "display_data"
    }
   ],
   "source": [
    "what_if_plot\n",
    "ggsave(\"what-if.png\", plot=what_if_plot)"
   ]
  }
 ],
 "metadata": {
  "kernelspec": {
   "display_name": "R",
   "language": "R",
   "name": "ir"
  },
  "language_info": {
   "codemirror_mode": "r",
   "file_extension": ".r",
   "mimetype": "text/x-r-source",
   "name": "R",
   "pygments_lexer": "r",
   "version": "4.5.0"
  }
 },
 "nbformat": 4,
 "nbformat_minor": 5
}
